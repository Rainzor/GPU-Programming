{
 "cells": [
  {
   "cell_type": "code",
   "execution_count": null,
   "metadata": {},
   "outputs": [],
   "source": [
    "import pandas as pd\n",
    "import matplotlib.pyplot as plt"
   ]
  },
  {
   "cell_type": "code",
   "execution_count": null,
   "metadata": {},
   "outputs": [],
   "source": [
    "filename_scan = 'scan.txt'\n",
    "# size, cpu, naive, naive_shared, efficient, efficient_shared, thrust\n",
    "df = pd.read_csv(filename_scan, delimiter=',')"
   ]
  },
  {
   "cell_type": "code",
   "execution_count": null,
   "metadata": {},
   "outputs": [],
   "source": [
    "size = df['size']\n",
    "cpu = df['cpu']\n",
    "naive = df['naive']\n",
    "naive_shared = df['naive_shared']\n",
    "efficient = df['efficient']\n",
    "efficient_shared = df['efficient_shared']\n",
    "thrust = df['thrust']"
   ]
  },
  {
   "cell_type": "code",
   "execution_count": null,
   "metadata": {},
   "outputs": [],
   "source": [
    "\n",
    "plt.plot(size, cpu, label='CPU', linestyle='-.',color='black')\n",
    "plt.plot(size, naive, label='Naive', linestyle='-', marker='*')\n",
    "plt.plot(size, efficient, label='Efficient W/O SM', linestyle='-', marker='x')\n",
    "plt.plot(size, efficient_shared, label='Efficient W/ SM', linestyle='--', marker='+')\n",
    "plt.plot(size, thrust, label='Thrust', linestyle='--', marker='.', color='red')\n",
    "plt.xlabel('size')\n",
    "plt.ylabel('time (ms)')\n",
    "\n",
    "plt.xscale('log')\n",
    "plt.yscale('log')\n",
    "plt.legend()\n",
    "plt.grid()\n",
    "plt.title('Time vs Size for Scan Algorithm')\n",
    "plt.show()"
   ]
  },
  {
   "cell_type": "code",
   "execution_count": null,
   "metadata": {},
   "outputs": [],
   "source": [
    "# plt.plot(size, cpu, label='CPU', linestyle='-.')\n",
    "# plt.plot(size, naive_shared, label='Naive W/ Shared-Mem',linestyle='-', marker='*')\n",
    "# plt.plot(size, efficient_shared, label='Efficient W/ Shared-Mem',linestyle='-', marker='x')\n",
    "# plt.plot(size, thrust, label='Thrust', linestyle='--', marker='.')\n",
    "# plt.xlabel('size')\n",
    "# plt.ylabel('time (ms)')\n",
    "\n",
    "# plt.xscale('log')\n",
    "# plt.yscale('log')\n",
    "# plt.legend()\n",
    "# plt.grid()\n",
    "# plt.title('Time vs Size for Scan Algorithm')\n",
    "# plt.show()"
   ]
  },
  {
   "cell_type": "code",
   "execution_count": null,
   "metadata": {},
   "outputs": [],
   "source": [
    "filename_scan = 'compact.txt'\n",
    "# size,cpu,cpu_scan,naive,naive_shared,efficient,efficient_shared,thrust\n",
    "df = pd.read_csv(filename_scan, delimiter=',')"
   ]
  },
  {
   "cell_type": "code",
   "execution_count": null,
   "metadata": {},
   "outputs": [],
   "source": [
    "size = df['size']\n",
    "cpu = df['cpu']\n",
    "cpu_scan = df['cpu_scan']\n",
    "naive = df['naive']\n",
    "naive_shared = df['naive_shared']\n",
    "efficient = df['efficient']\n",
    "efficient_shared = df['efficient_shared']\n",
    "thrust = df['thrust']\n"
   ]
  },
  {
   "cell_type": "code",
   "execution_count": null,
   "metadata": {},
   "outputs": [],
   "source": [
    "plt.plot(size, cpu_scan, label='CPU W/ Scan', linestyle='-.',color='gray')\n",
    "plt.plot(size, cpu, label='CPU W/O Scan', linestyle='--',color='black')\n",
    "plt.plot(size, naive, label='Naive', linestyle='-', marker='*')\n",
    "plt.plot(size, efficient, label='Efficient W/O SM', linestyle='-', marker='x')\n",
    "plt.plot(size, efficient_shared, label='Efficient W/ SM', linestyle='--', marker='+')\n",
    "plt.plot(size, thrust, label='Thrust', linestyle='--', marker='.', color='red')\n",
    "plt.xlabel('Number')\n",
    "plt.ylabel('Time (ms)')\n",
    "\n",
    "plt.xscale('log')\n",
    "plt.yscale('log')\n",
    "plt.legend()\n",
    "plt.grid()\n",
    "plt.title('Time vs Num for Compact Algorithm')\n",
    "plt.show()"
   ]
  },
  {
   "cell_type": "code",
   "execution_count": null,
   "metadata": {},
   "outputs": [],
   "source": [
    "# plt.plot(size, cpu, label='CPU W/O Scan', linestyle='--',color='purple')\n",
    "# plt.plot(size, cpu_scan, label='CPU W/ Scan', linestyle='-.')\n",
    "# plt.plot(size, naive_shared, label='Naive W/ Shared-Mem',linestyle='-', marker='*')\n",
    "# plt.plot(size, efficient_shared, label='Efficient W/ Shared-Mem',linestyle='-', marker='x')\n",
    "# plt.plot(size, thrust, label='Thrust', linestyle='--', marker='.')\n",
    "# plt.xlabel('Number')\n",
    "# plt.ylabel('Time (ms)')\n",
    "\n",
    "# plt.xscale('log')\n",
    "# plt.yscale('log')\n",
    "# plt.legend()\n",
    "# plt.grid()\n",
    "# plt.title('Time vs Num for Compact Algorithm')\n",
    "# plt.show()"
   ]
  },
  {
   "cell_type": "code",
   "execution_count": null,
   "metadata": {},
   "outputs": [],
   "source": [
    "# plt.plot(size, cpu_scan, label='CPU W/ Scan', linestyle='--', marker=',', color='purple')\n",
    "# plt.plot(size, cpu, label='CPU W/O Scan', linestyle='-.')\n",
    "# plt.plot(size, naive_shared, label='Naive W/ shared',linestyle='-', marker='*')\n",
    "# plt.plot(size, efficient_shared, label='Efficient W/ shared',linestyle='-', marker='x')\n",
    "# plt.plot(size, thrust, label='Thrust', linestyle='--', marker='.')\n",
    "# plt.xlabel('size')\n",
    "# plt.ylabel('time (ms)')\n",
    "\n",
    "# plt.xscale('log')\n",
    "# plt.yscale('log')\n",
    "# plt.legend()\n",
    "# plt.grid()\n",
    "# plt.title('Time vs Size for Scan Algorithm')\n",
    "# plt.show()"
   ]
  },
  {
   "cell_type": "code",
   "execution_count": null,
   "metadata": {},
   "outputs": [],
   "source": [
    "filename_scan_128 = 'scan_128.txt'\n",
    "# size, cpu, naive, naive_shared, efficient, efficient_shared, thrust\n",
    "df_128 = pd.read_csv(filename_scan_128, delimiter=',')\n",
    "naive_128 = df_128['naive']\n",
    "naive_shared_128 = df_128['naive_shared']\n",
    "efficient_128 = df_128['efficient']\n",
    "efficient_shared_128 = df_128['efficient_shared']"
   ]
  },
  {
   "cell_type": "code",
   "execution_count": null,
   "metadata": {},
   "outputs": [],
   "source": [
    "filename_scan_256 = 'scan_256.txt'\n",
    "# size, cpu, naive, naive_shared, efficient, efficient_shared, thrust\n",
    "df_256 = pd.read_csv(filename_scan_256, delimiter=',')\n",
    "\n",
    "naive_256 = df_256['naive']\n",
    "naive_shared_256 = df_256['naive_shared']\n",
    "efficient_256 = df_256['efficient']\n",
    "efficient_shared_256 = df_256['efficient_shared']"
   ]
  },
  {
   "cell_type": "code",
   "execution_count": null,
   "metadata": {},
   "outputs": [],
   "source": [
    "filename_scan_512 = 'scan.txt'\n",
    "# size, cpu, naive, naive_shared, efficient, efficient_shared, thrust\n",
    "df_512 = pd.read_csv(filename_scan_512, delimiter=',')\n",
    "naive_512 = df_512['naive']\n",
    "naive_shared_512 = df_512['naive_shared']\n",
    "efficient_512 = df_512['efficient']\n",
    "efficient_shared_512 = df_512['efficient_shared']"
   ]
  },
  {
   "cell_type": "code",
   "execution_count": null,
   "metadata": {},
   "outputs": [],
   "source": [
    "filename_scan_1024 = 'scan_1024.txt'\n",
    "# size, cpu, naive, naive_shared, efficient, efficient_shared, thrust\n",
    "df_1024 = pd.read_csv(filename_scan_1024, delimiter=',')\n",
    "naive_1024 = df_1024['naive']\n",
    "naive_shared_1024 = df_1024['naive_shared']\n",
    "efficient_1024 = df_1024['efficient']\n",
    "efficient_shared_1024 = df_1024['efficient_shared']"
   ]
  },
  {
   "cell_type": "code",
   "execution_count": null,
   "metadata": {},
   "outputs": [],
   "source": [
    "# compare naive\n",
    "plt.plot(size, naive_128, label='Naive 128', linestyle='-', marker='*')\n",
    "plt.plot(size, naive_256, label='Naive 256', linestyle='-', marker='x')\n",
    "plt.plot(size, naive_512, label='Naive 512', linestyle='-', marker='+')\n",
    "plt.plot(size, naive_1024, label='Naive 1024', linestyle='-', marker='.')\n",
    "plt.xlabel('size')\n",
    "plt.ylabel('time (ms)')\n",
    "plt.xscale('log')\n",
    "plt.yscale('log')\n",
    "plt.legend()\n",
    "plt.grid()\n",
    "plt.title('Time vs Size for Naive Scan Algorithm')"
   ]
  },
  {
   "cell_type": "code",
   "execution_count": null,
   "metadata": {},
   "outputs": [],
   "source": [
    "# compare efficient\n",
    "plt.plot(size, efficient_128, label='Efficient 128', linestyle='-', marker='*')\n",
    "plt.plot(size, efficient_256, label='Efficient 256', linestyle='-', marker='x')\n",
    "plt.plot(size, efficient_512, label='Efficient 512', linestyle='-', marker='+')\n",
    "plt.plot(size, efficient_1024, label='Efficient 1024', linestyle='-', marker='.')\n",
    "plt.xlabel('size')\n",
    "plt.ylabel('time (ms)')\n",
    "plt.xscale('log')\n",
    "plt.yscale('log')\n",
    "plt.legend()\n",
    "plt.grid()\n",
    "plt.title('Time vs Size for Efficient Scan Algorithm')\n",
    "plt.show()"
   ]
  },
  {
   "cell_type": "code",
   "execution_count": null,
   "metadata": {},
   "outputs": [],
   "source": [
    "# compare efficient shared\n",
    "plt.plot(size, efficient_shared_128, label='Efficient Shared 128', linestyle='-', marker='*')\n",
    "plt.plot(size, efficient_shared_256, label='Efficient Shared 256', linestyle='-', marker='x')\n",
    "plt.plot(size, efficient_shared_512, label='Efficient Shared 512', linestyle='-', marker='+')\n",
    "plt.plot(size, efficient_shared_1024, label='Efficient Shared 1024', linestyle='-', marker='.')\n",
    "plt.xlabel('size')\n",
    "plt.ylabel('time (ms)')\n",
    "plt.xscale('log')\n",
    "plt.yscale('log')\n",
    "plt.legend()\n",
    "plt.grid()\n",
    "plt.title('Time vs Size for Efficient Shared Scan Algorithm')\n",
    "plt.show()"
   ]
  }
 ],
 "metadata": {
  "kernelspec": {
   "display_name": "base",
   "language": "python",
   "name": "python3"
  },
  "language_info": {
   "codemirror_mode": {
    "name": "ipython",
    "version": 3
   },
   "file_extension": ".py",
   "mimetype": "text/x-python",
   "name": "python",
   "nbconvert_exporter": "python",
   "pygments_lexer": "ipython3",
   "version": "3.12.4"
  }
 },
 "nbformat": 4,
 "nbformat_minor": 2
}

{
 "cells": [
  {
   "cell_type": "code",
   "execution_count": null,
   "metadata": {},
   "outputs": [],
   "source": [
    "import pandas as pd\n",
    "import matplotlib.pyplot as plt"
   ]
  },
  {
   "cell_type": "code",
   "execution_count": null,
   "metadata": {},
   "outputs": [],
   "source": [
    "filename_scan = 'scan.txt'\n",
    "# size, cpu, naive, naive_shared, efficient, efficient_shared, thrust\n",
    "df = pd.read_csv(filename_scan, delimiter=',')"
   ]
  },
  {
   "cell_type": "code",
   "execution_count": null,
   "metadata": {},
   "outputs": [],
   "source": [
    "size = df['size']\n",
    "cpu = df['cpu']\n",
    "naive = df['naive']\n",
    "naive_shared = df['naive_shared']\n",
    "efficient = df['efficient']\n",
    "efficient_shared = df['efficient_shared']\n",
    "thrust = df['thrust']"
   ]
  },
  {
   "cell_type": "code",
   "execution_count": null,
   "metadata": {},
   "outputs": [],
   "source": [
    "\n",
    "plt.plot(size, cpu, label='CPU', linestyle='-.')\n",
    "plt.plot(size, naive, label='Naive W/O Shared-Mem', linestyle='-', marker='*')\n",
    "plt.plot(size, efficient, label='Efficient W/O Shared-Mem', linestyle='-', marker='x')\n",
    "plt.plot(size, thrust, label='Thrust', linestyle='--', marker='.')\n",
    "plt.xlabel('size')\n",
    "plt.ylabel('time (ms)')\n",
    "\n",
    "plt.xscale('log')\n",
    "plt.yscale('log')\n",
    "plt.legend()\n",
    "plt.grid()\n",
    "plt.title('Time vs Size for Scan Algorithm')\n",
    "plt.show()"
   ]
  },
  {
   "cell_type": "code",
   "execution_count": null,
   "metadata": {},
   "outputs": [],
   "source": [
    "plt.plot(size, cpu, label='CPU', linestyle='-.')\n",
    "plt.plot(size, naive_shared, label='Naive W/ Shared-Mem',linestyle='-', marker='*')\n",
    "plt.plot(size, efficient_shared, label='Efficient W/ Shared-Mem',linestyle='-', marker='x')\n",
    "plt.plot(size, thrust, label='Thrust', linestyle='--', marker='.')\n",
    "plt.xlabel('size')\n",
    "plt.ylabel('time (ms)')\n",
    "\n",
    "plt.xscale('log')\n",
    "plt.yscale('log')\n",
    "plt.legend()\n",
    "plt.grid()\n",
    "plt.title('Time vs Size for Scan Algorithm')\n",
    "plt.show()"
   ]
  },
  {
   "cell_type": "code",
   "execution_count": null,
   "metadata": {},
   "outputs": [],
   "source": [
    "filename_scan = 'compact.txt'\n",
    "# size,cpu,cpu_scan,naive,naive_shared,efficient,efficient_shared,thrust\n",
    "df = pd.read_csv(filename_scan, delimiter=',')"
   ]
  },
  {
   "cell_type": "code",
   "execution_count": null,
   "metadata": {},
   "outputs": [],
   "source": [
    "size = df['size']\n",
    "cpu = df['cpu']\n",
    "cpu_scan = df['cpu_scan']\n",
    "naive = df['naive']\n",
    "naive_shared = df['naive_shared']\n",
    "efficient = df['efficient']\n",
    "efficient_shared = df['efficient_shared']\n",
    "thrust = df['thrust']"
   ]
  },
  {
   "cell_type": "code",
   "execution_count": null,
   "metadata": {},
   "outputs": [],
   "source": [
    "plt.plot(size, cpu, label='CPU W/O Scan', linestyle='--',color='purple')\n",
    "plt.plot(size, cpu_scan, label='CPU W/ Scan', linestyle='-.')\n",
    "plt.plot(size, naive, label='Naive W/O Shared-Mem', linestyle='-', marker='*')\n",
    "plt.plot(size, efficient, label='Efficient W/O Shared-Mem', linestyle='-', marker='x')\n",
    "plt.plot(size, thrust, label='Thrust', linestyle='--', marker='.')\n",
    "plt.xlabel('Number')\n",
    "plt.ylabel('Time (ms)')\n",
    "\n",
    "plt.xscale('log')\n",
    "plt.yscale('log')\n",
    "plt.legend()\n",
    "plt.grid()\n",
    "plt.title('Time vs Num for Compact Algorithm')\n",
    "plt.show()"
   ]
  },
  {
   "cell_type": "code",
   "execution_count": null,
   "metadata": {},
   "outputs": [],
   "source": [
    "plt.plot(size, cpu, label='CPU W/O Scan', linestyle='--',color='purple')\n",
    "plt.plot(size, cpu_scan, label='CPU W/ Scan', linestyle='-.')\n",
    "plt.plot(size, naive_shared, label='Naive W/ Shared-Mem',linestyle='-', marker='*')\n",
    "plt.plot(size, efficient_shared, label='Efficient W/ Shared-Mem',linestyle='-', marker='x')\n",
    "plt.plot(size, thrust, label='Thrust', linestyle='--', marker='.')\n",
    "plt.xlabel('Number')\n",
    "plt.ylabel('Time (ms)')\n",
    "\n",
    "plt.xscale('log')\n",
    "plt.yscale('log')\n",
    "plt.legend()\n",
    "plt.grid()\n",
    "plt.title('Time vs Num for Compact Algorithm')\n",
    "plt.show()"
   ]
  },
  {
   "cell_type": "code",
   "execution_count": null,
   "metadata": {},
   "outputs": [],
   "source": [
    "plt.plot(size, cpu_scan, label='CPU W/ Scan', linestyle='--', marker=',', color='purple')\n",
    "plt.plot(size, cpu, label='CPU W/O Scan', linestyle='-.')\n",
    "plt.plot(size, naive_shared, label='Naive W/ shared',linestyle='-', marker='*')\n",
    "plt.plot(size, efficient_shared, label='Efficient W/ shared',linestyle='-', marker='x')\n",
    "plt.plot(size, thrust, label='Thrust', linestyle='--', marker='.')\n",
    "plt.xlabel('size')\n",
    "plt.ylabel('time (ms)')\n",
    "\n",
    "plt.xscale('log')\n",
    "plt.yscale('log')\n",
    "plt.legend()\n",
    "plt.grid()\n",
    "plt.title('Time vs Size for Scan Algorithm')\n",
    "plt.show()"
   ]
  }
 ],
 "metadata": {
  "kernelspec": {
   "display_name": "base",
   "language": "python",
   "name": "python3"
  },
  "language_info": {
   "codemirror_mode": {
    "name": "ipython",
    "version": 3
   },
   "file_extension": ".py",
   "mimetype": "text/x-python",
   "name": "python",
   "nbconvert_exporter": "python",
   "pygments_lexer": "ipython3",
   "version": "3.11.5"
  }
 },
 "nbformat": 4,
 "nbformat_minor": 2
}

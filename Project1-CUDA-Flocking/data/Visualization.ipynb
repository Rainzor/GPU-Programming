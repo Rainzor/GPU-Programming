{
 "cells": [
  {
   "cell_type": "code",
   "execution_count": null,
   "metadata": {},
   "outputs": [],
   "source": [
    "import pandas as pd\n",
    "import matplotlib.pyplot as plt"
   ]
  },
  {
   "cell_type": "code",
   "execution_count": null,
   "metadata": {},
   "outputs": [],
   "source": [
    "# Load the data from the provided text files\n",
    "coherent_grid = pd.read_csv('coherent_grid.txt', delimiter=',', header=0)\n",
    "naive = pd.read_csv('naive.txt', delimiter=',', header=0)\n",
    "uniform_grid = pd.read_csv('uniform_grid.txt', delimiter=',', header=0)"
   ]
  },
  {
   "cell_type": "code",
   "execution_count": null,
   "metadata": {},
   "outputs": [],
   "source": [
    "\n",
    "plt.figure(figsize=(10, 8))\n",
    "\n",
    "plt.plot(naive.iloc[:, 0], naive.iloc[:, 1], marker='s', label='Naive Grid')\n",
    "plt.plot(coherent_grid.iloc[:, 0], coherent_grid.iloc[:, 1], marker='o', label='Coherent')\n",
    "plt.plot(uniform_grid.iloc[:, 0], uniform_grid.iloc[:, 1], marker='^', label='Uniform Grid')\n",
    "\n",
    "plt.xscale('log')\n",
    "plt.yscale('log')\n",
    "plt.xlabel('N (log scale)')\n",
    "plt.ylabel('FPS (log scale)')\n",
    "plt.title('Comparison of Performance')\n",
    "plt.legend()\n",
    "plt.show()"
   ]
  }
 ],
 "metadata": {
  "kernelspec": {
   "display_name": "base",
   "language": "python",
   "name": "python3"
  },
  "language_info": {
   "codemirror_mode": {
    "name": "ipython",
    "version": 3
   },
   "file_extension": ".py",
   "mimetype": "text/x-python",
   "name": "python",
   "nbconvert_exporter": "python",
   "pygments_lexer": "ipython3",
   "version": "3.11.5"
  }
 },
 "nbformat": 4,
 "nbformat_minor": 2
}
